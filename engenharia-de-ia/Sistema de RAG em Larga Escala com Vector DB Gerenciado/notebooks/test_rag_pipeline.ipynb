{
 "cells": [
  {
   "cell_type": "code",
   "execution_count": 1,
   "id": "fe41b97c",
   "metadata": {},
   "outputs": [
    {
     "name": "stderr",
     "output_type": "stream",
     "text": [
      "/usr/local/python/3.12.1/lib/python3.12/site-packages/tqdm/auto.py:21: TqdmWarning: IProgress not found. Please update jupyter and ipywidgets. See https://ipywidgets.readthedocs.io/en/stable/user_install.html\n",
      "  from .autonotebook import tqdm as notebook_tqdm\n",
      "/usr/local/python/3.12.1/lib/python3.12/site-packages/langchain_pinecone/__init__.py:3: LangChainDeprecationWarning: As of langchain-core 0.3.0, LangChain uses pydantic v2 internally. The langchain_core.pydantic_v1 module was a compatibility shim for pydantic v1, and should no longer be used. Please update the code to import from Pydantic directly.\n",
      "\n",
      "For example, replace imports like: `from langchain_core.pydantic_v1 import BaseModel`\n",
      "with: `from pydantic import BaseModel`\n",
      "or the v1 compatibility namespace if you are working in a code base that has not been fully upgraded to pydantic 2 yet. \tfrom pydantic.v1 import BaseModel\n",
      "\n",
      "  from langchain_pinecone.vectorstores import Pinecone, PineconeVectorStore\n"
     ]
    },
    {
     "name": "stdout",
     "output_type": "stream",
     "text": [
      "Módulo rag_pipeline importado com sucesso!\n"
     ]
    }
   ],
   "source": [
    "import sys\n",
    "import os\n",
    "\n",
    "# Adiciona o diretório 'src' ao path para que possamos importar nosso módulo\n",
    "sys.path.append(os.path.abspath(os.path.join('..', 'src')))\n",
    "\n",
    "from rag_pipeline import create_rag_chain\n",
    "\n",
    "print(\"Módulo rag_pipeline importado com sucesso!\")"
   ]
  },
  {
   "cell_type": "code",
   "execution_count": 2,
   "id": "1a0a47a3",
   "metadata": {},
   "outputs": [
    {
     "name": "stderr",
     "output_type": "stream",
     "text": [
      "2025-10-15 04:46:20,957 - INFO - Carregando modelo de embedding via HuggingFaceEmbeddings...\n",
      "2025-10-15 04:46:23,298 - INFO - Load pretrained SentenceTransformer: all-MiniLM-L6-v2\n",
      "2025-10-15 04:46:23,789 - INFO - Conectando ao Pinecone Vector Store...\n",
      "2025-10-15 04:46:24,052 - WARNING - Index host ignored when initializing with index object.\n",
      "2025-10-15 04:46:24,053 - INFO - Retriever configurado com sucesso.\n",
      "2025-10-15 04:46:24,054 - INFO - Configurando o LLM (Google Gemini)...\n",
      "WARNING: All log messages before absl::InitializeLog() is called are written to STDERR\n",
      "E0000 00:00:1760503584.065379   28517 alts_credentials.cc:93] ALTS creds ignored. Not running on GCP and untrusted ALTS is not enabled.\n",
      "2025-10-15 04:46:24,068 - INFO - Construindo a chain RetrievalQA...\n",
      "2025-10-15 04:46:24,069 - INFO - Pipeline RAG criada com sucesso!\n"
     ]
    }
   ],
   "source": [
    "rag_chain = create_rag_chain()"
   ]
  },
  {
   "cell_type": "code",
   "execution_count": 3,
   "id": "ecd533ea",
   "metadata": {},
   "outputs": [],
   "source": [
    "if rag_chain:\n",
    "    query = \"O que é Retrieval-Augmented Generation?\"\n",
    "    result = rag_chain.invoke({\"query\": query})"
   ]
  },
  {
   "cell_type": "code",
   "execution_count": 4,
   "id": "dd039514",
   "metadata": {},
   "outputs": [
    {
     "name": "stdout",
     "output_type": "stream",
     "text": [
      "RESPOSTA GERADA:\n",
      "Retrieval-Augmented Generation é um dos caminhos e soluções utilizados para a implementação de chatbots com bases de conhecimento.\n",
      "\n",
      "==================================================\n",
      "\n",
      "FONTES RECUPERADAS DO PINECONE:\n",
      "-> Fonte: Chatbot\n",
      "   Texto: Após a IBM, os demais grandes jogadores da indústria de tecnologia passaram a investir fortemente em serviços cognitivos, como a Microsoft com o lançamento do LUIS, a Amazon com o Alexa e o Google com...\n",
      "--------------------\n",
      "-> Fonte: Claude (modelo de linguagem)\n",
      "   Texto: e aprendizagem por reforço. Na fase de aprendizagem supervisionada, o modelo gera respostas a prompts, autocrítica essas respostas com base em um conjunto de princípios orientadores (uma \"constituição...\n",
      "--------------------\n",
      "-> Fonte: Aprendizagem profunda\n",
      "   Texto: 1993, um compressor de histórico neural resolveu uma tarefa de \"aprendizagem muito profunda\" que exigia mais de 1000 camadas subsequentes em uma rede neural recorrente desdobrada no tempo. O \"P\" em Ch...\n",
      "--------------------\n"
     ]
    }
   ],
   "source": [
    "if rag_chain:\n",
    "    print(\"RESPOSTA GERADA:\")\n",
    "    print(result['result'])\n",
    "    print(\"\\n\" + \"=\"*50 + \"\\n\")\n",
    "    print(\"FONTES RECUPERADAS DO PINECONE:\")\n",
    "    for doc in result['source_documents']:\n",
    "        print(f\"-> Fonte: {doc.metadata['source']}\")\n",
    "        print(f\"   Texto: {doc.page_content[:200]}...\") # Mostra os primeiros 200 caracteres do chunk\n",
    "        print(\"-\" * 20)"
   ]
  }
 ],
 "metadata": {
  "kernelspec": {
   "display_name": "Python 3",
   "language": "python",
   "name": "python3"
  },
  "language_info": {
   "codemirror_mode": {
    "name": "ipython",
    "version": 3
   },
   "file_extension": ".py",
   "mimetype": "text/x-python",
   "name": "python",
   "nbconvert_exporter": "python",
   "pygments_lexer": "ipython3",
   "version": "3.12.1"
  }
 },
 "nbformat": 4,
 "nbformat_minor": 5
}
